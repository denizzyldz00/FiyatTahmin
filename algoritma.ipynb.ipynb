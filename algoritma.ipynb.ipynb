{
 "cells": [
  {
   "cell_type": "code",
   "execution_count": 1,
   "id": "4c47348c-a39a-4ff5-9889-13b25a505262",
   "metadata": {},
   "outputs": [],
   "source": [
    "import pandas as pd\n",
    "import numpy as np\n",
    "from sklearn.model_selection import train_test_split\n",
    "from sklearn.preprocessing import StandardScaler\n",
    "from sklearn.metrics import mean_squared_error, r2_score\n",
    "import joblib\n",
    "\n",
    "# Regresyon modelleri\n",
    "from sklearn.linear_model import LinearRegression, Ridge, Lasso\n",
    "from sklearn.tree import DecisionTreeRegressor\n",
    "from sklearn.ensemble import RandomForestRegressor, GradientBoostingRegressor\n",
    "from sklearn.svm import SVR\n",
    "from sklearn.neighbors import KNeighborsRegressor\n",
    "from sklearn.neural_network import MLPRegressor\n",
    "from xgboost import XGBRegressor\n"
   ]
  },
  {
   "cell_type": "code",
   "execution_count": 2,
   "id": "29085a56-ed82-4e5a-96ca-0c21be8cd0ed",
   "metadata": {},
   "outputs": [],
   "source": [
    "# Veriyi oku\n",
    "df = pd.read_csv('veri.csv')\n",
    "\n",
    "# One-hot encoding yap\n",
    "df_encoded = pd.get_dummies(df, columns=['Marka', 'Model', 'Yakit_Tipi', 'Vites_Tipi'])\n",
    "\n",
    "# Özellikleri ve hedefi ayır\n",
    "X = df_encoded.drop('Fiyat', axis=1)\n",
    "y = df_encoded['Fiyat']\n",
    "\n",
    "# Train-test split\n",
    "X_train, X_test, y_train, y_test = train_test_split(X, y, test_size=0.2, random_state=42)\n",
    "\n",
    "# Scaler'ı eğit\n",
    "scaler = StandardScaler()\n",
    "X_train_scaled = scaler.fit_transform(X_train)\n",
    "X_test_scaled = scaler.transform(X_test)\n",
    "\n",
    "# Feature names'i kaydet\n",
    "feature_names = X.columns.tolist()\n",
    "joblib.dump(feature_names, 'feature_names.joblib')\n",
    "joblib.dump(scaler, 'scaler.joblib')\n",
    "\n",
    "# Modelleri tanımla ve eğit\n",
    "models = {\n",
    "    'Linear Regression': LinearRegression(),\n",
    "    'Ridge': Ridge(),\n",
    "    'Lasso': Lasso(),\n",
    "    'Decision Tree': DecisionTreeRegressor(),\n",
    "    'Random Forest': RandomForestRegressor(),\n",
    "    'Gradient Boosting': GradientBoostingRegressor(),\n",
    "    'SVR': SVR(),\n",
    "    'KNN': KNeighborsRegressor(),\n",
    "    'MLP': MLPRegressor(max_iter=1000),\n",
    "    'XGBoost': XGBRegressor()\n",
    "}\n"
   ]
  },
  {
   "cell_type": "code",
   "execution_count": 3,
   "id": "522f2a88-5c69-42df-b22c-5d8f3975af42",
   "metadata": {},
   "outputs": [
    {
     "name": "stdout",
     "output_type": "stream",
     "text": [
      "Training Linear Regression...\n",
      "Linear Regression - RMSE: 13187.17, R2: 0.9878\n",
      "\n",
      "Training Ridge...\n",
      "Ridge - RMSE: 13133.18, R2: 0.9879\n",
      "\n",
      "Training Lasso...\n",
      "Lasso - RMSE: 13141.01, R2: 0.9879\n",
      "\n",
      "Training Decision Tree...\n",
      "Decision Tree - RMSE: 34165.70, R2: 0.9181\n",
      "\n",
      "Training Random Forest...\n"
     ]
    },
    {
     "name": "stderr",
     "output_type": "stream",
     "text": [
      "C:\\Users\\deniz\\anaconda3\\Lib\\site-packages\\sklearn\\linear_model\\_coordinate_descent.py:697: ConvergenceWarning: Objective did not converge. You might want to increase the number of iterations, check the scale of the features or consider increasing regularisation. Duality gap: 1.766e+10, tolerance: 1.272e+09\n",
      "  model = cd_fast.enet_coordinate_descent(\n"
     ]
    },
    {
     "name": "stdout",
     "output_type": "stream",
     "text": [
      "Random Forest - RMSE: 19063.10, R2: 0.9745\n",
      "\n",
      "Training Gradient Boosting...\n",
      "Gradient Boosting - RMSE: 14661.62, R2: 0.9849\n",
      "\n",
      "Training SVR...\n",
      "SVR - RMSE: 119376.87, R2: 0.0001\n",
      "\n",
      "Training KNN...\n",
      "KNN - RMSE: 59162.75, R2: 0.7544\n",
      "\n",
      "Training MLP...\n"
     ]
    },
    {
     "name": "stderr",
     "output_type": "stream",
     "text": [
      "C:\\Users\\deniz\\anaconda3\\Lib\\site-packages\\joblib\\externals\\loky\\backend\\context.py:136: UserWarning: Could not find the number of physical cores for the following reason:\n",
      "[WinError 2] Sistem belirtilen dosyayı bulamıyor\n",
      "Returning the number of logical cores instead. You can silence this warning by setting LOKY_MAX_CPU_COUNT to the number of cores you want to use.\n",
      "  warnings.warn(\n",
      "  File \"C:\\Users\\deniz\\anaconda3\\Lib\\site-packages\\joblib\\externals\\loky\\backend\\context.py\", line 257, in _count_physical_cores\n",
      "    cpu_info = subprocess.run(\n",
      "               ^^^^^^^^^^^^^^^\n",
      "  File \"C:\\Users\\deniz\\anaconda3\\Lib\\subprocess.py\", line 548, in run\n",
      "    with Popen(*popenargs, **kwargs) as process:\n",
      "         ^^^^^^^^^^^^^^^^^^^^^^^^^^^\n",
      "  File \"C:\\Users\\deniz\\anaconda3\\Lib\\subprocess.py\", line 1026, in __init__\n",
      "    self._execute_child(args, executable, preexec_fn, close_fds,\n",
      "  File \"C:\\Users\\deniz\\anaconda3\\Lib\\subprocess.py\", line 1538, in _execute_child\n",
      "    hp, ht, pid, tid = _winapi.CreateProcess(executable, args,\n",
      "                       ^^^^^^^^^^^^^^^^^^^^^^^^^^^^^^^^^^^^^^^\n"
     ]
    },
    {
     "name": "stdout",
     "output_type": "stream",
     "text": [
      "MLP - RMSE: 546623.09, R2: -19.9647\n",
      "\n",
      "Training XGBoost...\n",
      "XGBoost - RMSE: 14469.40, R2: 0.9853\n",
      "\n",
      "\n",
      "En iyi model: Ridge\n",
      "RMSE: 13133.18\n",
      "R2: 0.9879\n"
     ]
    },
    {
     "name": "stderr",
     "output_type": "stream",
     "text": [
      "C:\\Users\\deniz\\anaconda3\\Lib\\site-packages\\sklearn\\neural_network\\_multilayer_perceptron.py:690: ConvergenceWarning: Stochastic Optimizer: Maximum iterations (1000) reached and the optimization hasn't converged yet.\n",
      "  warnings.warn(\n"
     ]
    }
   ],
   "source": [
    "# Modelleri tanımla\n",
    "models = {\n",
    "    'Linear Regression': LinearRegression(),\n",
    "    'Ridge': Ridge(),\n",
    "    'Lasso': Lasso(),\n",
    "    'Decision Tree': DecisionTreeRegressor(),\n",
    "    'Random Forest': RandomForestRegressor(),\n",
    "    'Gradient Boosting': GradientBoostingRegressor(),\n",
    "    'SVR': SVR(),\n",
    "    'KNN': KNeighborsRegressor(),\n",
    "    'MLP': MLPRegressor(max_iter=1000),\n",
    "    'XGBoost': XGBRegressor()\n",
    "}\n",
    "\n",
    "# Sonuçları saklamak için sözlük\n",
    "results = {}\n",
    "\n",
    "# Her modeli eğit ve değerlendir\n",
    "for name, model in models.items():\n",
    "    print(f\"Training {name}...\")\n",
    "    model.fit(X_train_scaled, y_train)\n",
    "    y_pred = model.predict(X_test_scaled)\n",
    "    rmse = np.sqrt(mean_squared_error(y_test, y_pred))\n",
    "    r2 = r2_score(y_test, y_pred)\n",
    "    results[name] = {'RMSE': rmse, 'R2': r2}\n",
    "    print(f\"{name} - RMSE: {rmse:.2f}, R2: {r2:.4f}\\n\")\n",
    "\n",
    "# En iyi modeli bul\n",
    "best_model_name = min(results.items(), key=lambda x: x[1]['RMSE'])[0]\n",
    "print(f\"\\nEn iyi model: {best_model_name}\")\n",
    "print(f\"RMSE: {results[best_model_name]['RMSE']:.2f}\")\n",
    "print(f\"R2: {results[best_model_name]['R2']:.4f}\")\n"
   ]
  },
  {
   "cell_type": "code",
   "execution_count": 4,
   "id": "81d292d7-01f7-4812-b638-919b99e4c711",
   "metadata": {},
   "outputs": [
    {
     "data": {
      "text/plain": [
       "['feature_names.joblib']"
      ]
     },
     "execution_count": 4,
     "metadata": {},
     "output_type": "execute_result"
    }
   ],
   "source": [
    "# En iyi modeli kaydet\n",
    "best_model = models[best_model_name]\n",
    "joblib.dump(best_model, 'eniyi.joblib')\n",
    "# Scaler'ı da kaydet (Streamlit uygulaması için gerekli olacak)\n",
    "joblib.dump(scaler, 'scaler.joblib')\n",
    "# Feature isimleri de kaydedilmeli\n",
    "feature_names = X.columns.tolist()\n",
    "joblib.dump(feature_names, 'feature_names.joblib')\n"
   ]
  },
  {
   "cell_type": "code",
   "execution_count": null,
   "id": "f073a445-86a1-4ecd-96de-039a334c57db",
   "metadata": {},
   "outputs": [],
   "source": []
  }
 ],
 "metadata": {
  "kernelspec": {
   "display_name": "base",
   "language": "python",
   "name": "python3"
  },
  "language_info": {
   "codemirror_mode": {
    "name": "ipython",
    "version": 3
   },
   "file_extension": ".py",
   "mimetype": "text/x-python",
   "name": "python",
   "nbconvert_exporter": "python",
   "pygments_lexer": "ipython3",
   "version": "3.12.7"
  }
 },
 "nbformat": 4,
 "nbformat_minor": 5
}
