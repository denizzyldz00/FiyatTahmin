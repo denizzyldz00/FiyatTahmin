{
 "cells": [
  {
   "cell_type": "code",
   "execution_count": null,
   "id": "4c47348c-a39a-4ff5-9889-13b25a505262",
   "metadata": {},
   "outputs": [],
   "source": []
  }
 ],
 "metadata": {
  "kernelspec": {
   "display_name": "",
   "name": ""
  },
  "language_info": {
   "name": ""
  }
 },
 "nbformat": 4,
 "nbformat_minor": 5
}
