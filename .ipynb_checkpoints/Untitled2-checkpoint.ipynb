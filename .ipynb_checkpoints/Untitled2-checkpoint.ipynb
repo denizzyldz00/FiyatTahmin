{
 "cells": [
  {
   "cell_type": "code",
   "execution_count": null,
   "id": "a9141f03-5950-4a7a-bc5e-a1ee7fd6571c",
   "metadata": {},
   "outputs": [],
   "source": []
  }
 ],
 "metadata": {
  "kernelspec": {
   "display_name": "",
   "name": ""
  },
  "language_info": {
   "name": ""
  }
 },
 "nbformat": 4,
 "nbformat_minor": 5
}
